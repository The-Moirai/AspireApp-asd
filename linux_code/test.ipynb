{
 "cells": [
  {
   "cell_type": "code",
   "execution_count": null,
   "id": "8b457f3e",
   "metadata": {},
   "outputs": [],
   "source": []
  },
  {
   "cell_type": "code",
   "execution_count": 93,
   "id": "f166286e",
   "metadata": {},
   "outputs": [],
   "source": [
    "from server_client import *\n",
    "import pickle\n",
    "close_msg=message()\n",
    "close_msg.type=\"shutdown\"\n",
    "close_data=pickle.dumps(close_msg)\n",
    "\n",
    "\n",
    "query_msg=message()\n",
    "query_msg.type=\"get_nodes_info\"\n",
    "query_data=pickle.dumps(query_msg)\n"
   ]
  },
  {
   "cell_type": "code",
   "execution_count": 94,
   "id": "b43ef5d2",
   "metadata": {},
   "outputs": [],
   "source": [
    "IP=\"192.168.209.227\" \n",
    "PORT=60001"
   ]
  },
  {
   "cell_type": "markdown",
   "id": "08daf3ca",
   "metadata": {},
   "source": [
    "这里建立链接"
   ]
  },
  {
   "cell_type": "code",
   "execution_count": 89,
   "id": "a64914f5",
   "metadata": {},
   "outputs": [
    {
     "ename": "ConnectionRefusedError",
     "evalue": "[WinError 10061] 由于目标计算机积极拒绝，无法连接。",
     "output_type": "error",
     "traceback": [
      "\u001b[1;31m---------------------------------------------------------------------------\u001b[0m",
      "\u001b[1;31mConnectionRefusedError\u001b[0m                    Traceback (most recent call last)",
      "Input \u001b[1;32mIn [89]\u001b[0m, in \u001b[0;36m<cell line: 1>\u001b[1;34m()\u001b[0m\n\u001b[1;32m----> 1\u001b[0m client\u001b[38;5;241m=\u001b[39m\u001b[43mbuild_send_client\u001b[49m\u001b[43m(\u001b[49m\u001b[43mIP\u001b[49m\u001b[43m,\u001b[49m\u001b[43mPORT\u001b[49m\u001b[43m)\u001b[49m\n",
      "File \u001b[1;32mc:\\Users\\浩楠\\Desktop\\毕设相关\\linux_code\\server_client.py:370\u001b[0m, in \u001b[0;36mbuild_send_client\u001b[1;34m(IP, PORT)\u001b[0m\n\u001b[0;32m    368\u001b[0m client\u001b[38;5;241m=\u001b[39msocket\u001b[38;5;241m.\u001b[39msocket(socket\u001b[38;5;241m.\u001b[39mAF_INET,socket\u001b[38;5;241m.\u001b[39mSOCK_STREAM)\n\u001b[0;32m    369\u001b[0m client\u001b[38;5;241m.\u001b[39msettimeout(\u001b[38;5;241m1000\u001b[39m)\n\u001b[1;32m--> 370\u001b[0m \u001b[43mclient\u001b[49m\u001b[38;5;241;43m.\u001b[39;49m\u001b[43mconnect\u001b[49m\u001b[43m(\u001b[49m\u001b[43m(\u001b[49m\u001b[43mHOST\u001b[49m\u001b[43m,\u001b[49m\u001b[43mPORT\u001b[49m\u001b[43m)\u001b[49m\u001b[43m)\u001b[49m\n\u001b[0;32m    371\u001b[0m \u001b[38;5;28;01mreturn\u001b[39;00m client\n",
      "\u001b[1;31mConnectionRefusedError\u001b[0m: [WinError 10061] 由于目标计算机积极拒绝，无法连接。"
     ]
    }
   ],
   "source": [
    "client=build_send_client(IP,PORT)"
   ]
  },
  {
   "cell_type": "markdown",
   "id": "ef0506ad",
   "metadata": {},
   "source": [
    "这里测试关闭代码"
   ]
  },
  {
   "cell_type": "code",
   "execution_count": 72,
   "id": "43d17848",
   "metadata": {},
   "outputs": [
    {
     "name": "stdout",
     "output_type": "stream",
     "text": [
      "msg_size is   90\n",
      "已发送神经网络节点处理\n"
     ]
    }
   ],
   "source": [
    "send_to_server(client,close_data)"
   ]
  },
  {
   "cell_type": "markdown",
   "id": "49959829",
   "metadata": {},
   "source": [
    "这里测试关闭后的节点数\n"
   ]
  },
  {
   "cell_type": "code",
   "execution_count": 146,
   "id": "ec7da147",
   "metadata": {},
   "outputs": [],
   "source": [
    "IP=\"192.1.155.172\"\n",
    "PORT_center=5002\n",
    "client_center=build_send_client(IP,PORT_center)\n"
   ]
  },
  {
   "cell_type": "code",
   "execution_count": 153,
   "id": "cd60f903",
   "metadata": {},
   "outputs": [
    {
     "name": "stdout",
     "output_type": "stream",
     "text": [
      "msg_size is   96\n",
      "已发送神经网络节点处理\n",
      "msg_size is  5723\n",
      "5723\n"
     ]
    }
   ],
   "source": [
    "send_to_server(client_center,query_data)\n",
    "ans_data=recv_from_server(client_center)\n",
    "ans=pickle.loads(ans_data)"
   ]
  },
  {
   "cell_type": "code",
   "execution_count": 154,
   "id": "d4488104",
   "metadata": {},
   "outputs": [
    {
     "name": "stdout",
     "output_type": "stream",
     "text": [
      "192.168.209.227:60003 104857600 4294967296 2.44140625 4294967296 200000 53687091200 151\n",
      "192.168.209.227:60010 104857600 4294967296 2.44140625 4294967296 200000 53687091200 140\n",
      "192.168.209.227:60016 104857600 4294967296 2.44140625 4294967296 200000 53687091200 47\n",
      "192.168.209.227:60000 104857600 4294967296 2.44140625 4294967296 200000 53687091200 3\n",
      "192.168.209.227:60004 104857600 4294967296 2.44140625 4294967296 200000 53687091200 2\n",
      "192.168.209.227:60001 104857600 4294967296 2.44140625 4294967296 200000 53687091200 1\n",
      "192.168.209.227:60007 104857600 4294967296 2.44140625 4294967296 200000 53687091200 1\n",
      "192.168.209.227:60014 104857600 4294967296 2.44140625 4294967296 200000 53687091200 1\n",
      "192.168.209.227:60009 104857600 4294967296 2.44140625 4294967296 200000 53687091200 1\n",
      "192.168.209.227:60011 104857600 4294967296 2.44140625 4294967296 200000 53687091200 2\n",
      "192.168.209.227:60019 104857600 4294967296 2.44140625 4294967296 200000 53687091200 1\n",
      "192.168.209.227:60018 104857600 4294967296 2.44140625 4294967296 200000 53687091200 1\n",
      "192.168.209.227:60013 104857600 4294967296 2.44140625 4294967296 200000 53687091200 0\n",
      "192.168.209.227:60005 104857600 4294967296 2.44140625 4294967296 200000 53687091200 0\n",
      "192.168.209.227:60015 104857600 4294967296 2.44140625 4294967296 200000 53687091200 0\n",
      "192.168.209.227:60002 104857600 4294967296 2.44140625 4294967296 200000 53687091200 0\n",
      "192.168.209.227:60006 104857600 4294967296 2.44140625 4294967296 200000 53687091200 0\n",
      "192.168.209.227:60008 104857600 4294967296 2.44140625 4294967296 200000 53687091200 0\n",
      "192.168.209.227:60017 104857600 4294967296 2.44140625 4294967296 200000 53687091200 0\n",
      "192.168.209.227:60012 104857600 4294967296 2.44140625 4294967296 200000 53687091200 0\n"
     ]
    }
   ],
   "source": [
    "nodes=ans.content\n",
    "for node in nodes:\n",
    "    print(node.name,node.cpu_used_memory,node.cpu_memory,node.cpu_used_rate,node.initial_compute_capacity,node.bandwidth,node.memory,node.dealed_task_num)"
   ]
  },
  {
   "cell_type": "code",
   "execution_count": 114,
   "id": "9ee952eb",
   "metadata": {},
   "outputs": [
    {
     "name": "stdout",
     "output_type": "stream",
     "text": [
      "524288000\n",
      "5242880\n"
     ]
    }
   ],
   "source": [
    "cpu_memory=500*1024*1024\n",
    "print(cpu_memory)\n",
    "print(5*1024**2)"
   ]
  },
  {
   "cell_type": "code",
   "execution_count": 76,
   "id": "96fdacdf",
   "metadata": {},
   "outputs": [
    {
     "name": "stdout",
     "output_type": "stream",
     "text": [
      "1745401300.5546994\n"
     ]
    },
    {
     "name": "stdout",
     "output_type": "stream",
     "text": [
      "5.003149509429932\n"
     ]
    }
   ],
   "source": [
    "import time\n",
    "print(time.time())\n",
    "a=time.time()\n",
    "time.sleep(5)\n",
    "b=time.time()\n",
    "print(b-a)"
   ]
  }
 ],
 "metadata": {
  "kernelspec": {
   "display_name": "Python 3.9.7 ('base')",
   "language": "python",
   "name": "python3"
  },
  "language_info": {
   "codemirror_mode": {
    "name": "ipython",
    "version": 3
   },
   "file_extension": ".py",
   "mimetype": "text/x-python",
   "name": "python",
   "nbconvert_exporter": "python",
   "pygments_lexer": "ipython3",
   "version": "3.9.7"
  },
  "vscode": {
   "interpreter": {
    "hash": "7758e92e9a61d7a3490898707f7eeb937c85e9d1e8d4e877cc6c187218f226d5"
   }
  }
 },
 "nbformat": 4,
 "nbformat_minor": 5
}
